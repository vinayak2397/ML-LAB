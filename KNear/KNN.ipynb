{
 "cells": [
  {
   "cell_type": "code",
   "execution_count": 2,
   "id": "c8c1e5b8",
   "metadata": {},
   "outputs": [
    {
     "name": "stdout",
     "output_type": "stream",
     "text": [
      "Confusion Matrix\n",
      "[[15  0  0]\n",
      " [ 0 13  0]\n",
      " [ 0  1 16]]\n",
      "Accuracy Metrics\n",
      "              precision    recall  f1-score   support\n",
      "\n",
      "           0       1.00      1.00      1.00        15\n",
      "           1       0.93      1.00      0.96        13\n",
      "           2       1.00      0.94      0.97        17\n",
      "\n",
      "    accuracy                           0.98        45\n",
      "   macro avg       0.98      0.98      0.98        45\n",
      "weighted avg       0.98      0.98      0.98        45\n",
      "\n"
     ]
    },
    {
     "name": "stderr",
     "output_type": "stream",
     "text": [
      "C:\\Users\\Admin\\anaconda3\\lib\\site-packages\\sklearn\\neighbors\\_classification.py:228: FutureWarning: Unlike other reduction functions (e.g. `skew`, `kurtosis`), the default behavior of `mode` typically preserves the axis it acts along. In SciPy 1.11.0, this behavior will change: the default value of `keepdims` will become False, the `axis` over which the statistic is taken will be eliminated, and the value None will no longer be accepted. Set `keepdims` to True or False to avoid this warning.\n",
      "  mode, _ = stats.mode(_y[neigh_ind, k], axis=1)\n"
     ]
    }
   ],
   "source": [
    "from sklearn.model_selection import train_test_split \n",
    "from sklearn.neighbors import KNeighborsClassifier\n",
    "from sklearn.metrics import classification_report, confusion_matrix \n",
    "from sklearn import datasets\n",
    "iris=datasets.load_iris()\n",
    "\n",
    "x =  iris.data \n",
    "y = iris.target\n",
    "\n",
    "# print ('sepal-length', 'sepal-width', 'petal-length', 'petal-width') \n",
    "# print(x)\n",
    "# print('class: 0-Iris-Setosa, 1- Iris-Versicolour, 2- Iris-Virginica')\n",
    "# print(y)\n",
    "\n",
    "x_train, x_test, y_train, y_test = train_test_split(x,y,test_size=0.3)\n",
    "\n",
    "#To Training the model and Nearest nighbors K=5\t \n",
    "classifier = KNeighborsClassifier(n_neighbors=5) \n",
    "classifier.fit(x_train, y_train)\n",
    "\n",
    "#to make predictions on our test data\t \n",
    "y_pred=classifier.predict(x_test)\n",
    "\n",
    "print('Confusion Matrix')\n",
    "print(confusion_matrix(y_test,y_pred))\n",
    "print('Accuracy Metrics') \n",
    "print(classification_report(y_test,y_pred))"
   ]
  },
  {
   "cell_type": "code",
   "execution_count": 3,
   "id": "8fefcac9",
   "metadata": {},
   "outputs": [
    {
     "name": "stdout",
     "output_type": "stream",
     "text": [
      "Correct prediction: Predicted class 'versicolor', Actual class 'versicolor'\n",
      "Correct prediction: Predicted class 'setosa', Actual class 'setosa'\n",
      "Correct prediction: Predicted class 'virginica', Actual class 'virginica'\n",
      "Correct prediction: Predicted class 'versicolor', Actual class 'versicolor'\n",
      "Correct prediction: Predicted class 'versicolor', Actual class 'versicolor'\n",
      "Correct prediction: Predicted class 'setosa', Actual class 'setosa'\n",
      "Correct prediction: Predicted class 'versicolor', Actual class 'versicolor'\n",
      "Correct prediction: Predicted class 'virginica', Actual class 'virginica'\n",
      "Correct prediction: Predicted class 'versicolor', Actual class 'versicolor'\n",
      "Correct prediction: Predicted class 'versicolor', Actual class 'versicolor'\n",
      "Correct prediction: Predicted class 'virginica', Actual class 'virginica'\n",
      "Correct prediction: Predicted class 'setosa', Actual class 'setosa'\n",
      "Correct prediction: Predicted class 'setosa', Actual class 'setosa'\n",
      "Correct prediction: Predicted class 'setosa', Actual class 'setosa'\n",
      "Correct prediction: Predicted class 'setosa', Actual class 'setosa'\n",
      "Correct prediction: Predicted class 'versicolor', Actual class 'versicolor'\n",
      "Correct prediction: Predicted class 'virginica', Actual class 'virginica'\n",
      "Correct prediction: Predicted class 'versicolor', Actual class 'versicolor'\n",
      "Correct prediction: Predicted class 'versicolor', Actual class 'versicolor'\n",
      "Correct prediction: Predicted class 'virginica', Actual class 'virginica'\n",
      "Correct prediction: Predicted class 'setosa', Actual class 'setosa'\n",
      "Correct prediction: Predicted class 'virginica', Actual class 'virginica'\n",
      "Correct prediction: Predicted class 'setosa', Actual class 'setosa'\n",
      "Correct prediction: Predicted class 'virginica', Actual class 'virginica'\n",
      "Correct prediction: Predicted class 'virginica', Actual class 'virginica'\n",
      "Correct prediction: Predicted class 'virginica', Actual class 'virginica'\n",
      "Correct prediction: Predicted class 'virginica', Actual class 'virginica'\n",
      "Correct prediction: Predicted class 'virginica', Actual class 'virginica'\n",
      "Correct prediction: Predicted class 'setosa', Actual class 'setosa'\n",
      "Correct prediction: Predicted class 'setosa', Actual class 'setosa'\n",
      "\n",
      "Accuracy: 1.00\n"
     ]
    },
    {
     "name": "stderr",
     "output_type": "stream",
     "text": [
      "C:\\Users\\Admin\\anaconda3\\lib\\site-packages\\sklearn\\neighbors\\_classification.py:228: FutureWarning: Unlike other reduction functions (e.g. `skew`, `kurtosis`), the default behavior of `mode` typically preserves the axis it acts along. In SciPy 1.11.0, this behavior will change: the default value of `keepdims` will become False, the `axis` over which the statistic is taken will be eliminated, and the value None will no longer be accepted. Set `keepdims` to True or False to avoid this warning.\n",
      "  mode, _ = stats.mode(_y[neigh_ind, k], axis=1)\n"
     ]
    }
   ],
   "source": [
    "import numpy as np\n",
    "from sklearn.datasets import load_iris\n",
    "from sklearn.model_selection import train_test_split\n",
    "from sklearn.neighbors import KNeighborsClassifier\n",
    "\n",
    "# Load the Iris dataset\n",
    "iris = load_iris()\n",
    "X = iris.data\n",
    "y = iris.target\n",
    "\n",
    "# Split the dataset into training and testing sets\n",
    "X_train, X_test, y_train, y_test = train_test_split(X, y, test_size=0.2, random_state=42)\n",
    "\n",
    "# Create a k-NN classifier\n",
    "k = 3  # Number of neighbors to consider\n",
    "knn = KNeighborsClassifier(n_neighbors=k)\n",
    "\n",
    "# Train the classifier\n",
    "knn.fit(X_train, y_train)\n",
    "\n",
    "# Perform predictions on the test set\n",
    "predictions = knn.predict(X_test)\n",
    "\n",
    "# Print the correct and wrong predictions\n",
    "correct = 0\n",
    "wrong = 0\n",
    "for i in range(len(predictions)):\n",
    "    if predictions[i] == y_test[i]:\n",
    "        print(f\"Correct prediction: Predicted class '{iris.target_names[predictions[i]]}', Actual class '{iris.target_names[y_test[i]]}'\")\n",
    "        correct += 1\n",
    "    else:\n",
    "        print(f\"Wrong prediction: Predicted class '{iris.target_names[predictions[i]]}', Actual class '{iris.target_names[y_test[i]]}'\")\n",
    "        wrong += 1\n",
    "\n",
    "# Print the overall accuracy\n",
    "accuracy = correct / (correct + wrong)\n",
    "print(f\"\\nAccuracy: {accuracy:.2f}\")\n"
   ]
  },
  {
   "cell_type": "code",
   "execution_count": null,
   "id": "adc84191",
   "metadata": {},
   "outputs": [],
   "source": []
  }
 ],
 "metadata": {
  "kernelspec": {
   "display_name": "Python 3 (ipykernel)",
   "language": "python",
   "name": "python3"
  },
  "language_info": {
   "codemirror_mode": {
    "name": "ipython",
    "version": 3
   },
   "file_extension": ".py",
   "mimetype": "text/x-python",
   "name": "python",
   "nbconvert_exporter": "python",
   "pygments_lexer": "ipython3",
   "version": "3.9.13"
  }
 },
 "nbformat": 4,
 "nbformat_minor": 5
}
